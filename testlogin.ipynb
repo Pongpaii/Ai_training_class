{
 "cells": [
  {
   "cell_type": "code",
   "execution_count": 1,
   "metadata": {},
   "outputs": [],
   "source": [
    "#test login \n",
    "from selenium import webdriver\n",
    "from webdriver_manager.chrome import  ChromeDriverManager\n",
    "from selenium.webdriver.chrome.service import Service\n",
    "from selenium.webdriver.common.keys import Keys"
   ]
  },
  {
   "cell_type": "code",
   "execution_count": 2,
   "metadata": {},
   "outputs": [],
   "source": [
    "\n",
    "service = Service(ChromeDriverManager().install())\n",
    "driver = webdriver.Chrome(service=service)\n",
    "driver.maximize_window()\n",
    "url ='https://practicetestautomation.com/practice-test-login/'\n",
    "driver.get(url)"
   ]
  },
  {
   "cell_type": "code",
   "execution_count": 3,
   "metadata": {},
   "outputs": [],
   "source": [
    "username = driver.find_element('xpath','//*[@id=\"username\"]')\n",
    "username.clear()\n",
    "username.send_keys('student')\n",
    "\n",
    "pw = driver.find_element('xpath','//*[@id=\"password\"]')\n",
    "pw.clear()\n",
    "pw.send_keys('Password123')\n",
    "\n",
    "#click\n",
    "submit = driver.find_element('xpath','//*[@id=\"submit\"]')\n",
    "submit.click()"
   ]
  }
 ],
 "metadata": {
  "kernelspec": {
   "display_name": "base",
   "language": "python",
   "name": "python3"
  },
  "language_info": {
   "codemirror_mode": {
    "name": "ipython",
    "version": 3
   },
   "file_extension": ".py",
   "mimetype": "text/x-python",
   "name": "python",
   "nbconvert_exporter": "python",
   "pygments_lexer": "ipython3",
   "version": "3.12.3"
  }
 },
 "nbformat": 4,
 "nbformat_minor": 2
}
